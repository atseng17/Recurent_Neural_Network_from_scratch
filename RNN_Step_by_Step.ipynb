{
 "cells": [
  {
   "cell_type": "markdown",
   "metadata": {},
   "source": [
    "# RNN_Step_by_Step"
   ]
  },
  {
   "cell_type": "markdown",
   "metadata": {},
   "source": [
    "One time step for a single instance...\n",
    "$$ y_{(t)}=\\Phi(x_{(t)}^T*w_x+y_{(t-1)}^T*w_y+b) $$\n",
    "One time step for each batch (number of instances = batch size)...\n",
    "$$ Y_{(t)}=\\Phi(X_{(t)}^T*W_x+Y_{(t-1)}^T*W_y+b) $$"
   ]
  },
  {
   "cell_type": "markdown",
   "metadata": {},
   "source": [
    "Let's look at a small toy model that exicutes a minibatch, and it allows a two step prediction. we devide our time series data to small parts, each part is composed of 3 consequtive values. And we have two steps. since we have a lot of samples, and we decided to combine 4 samples in a mini batch. \n",
    "\n",
    "Imagin that our time series sample look likes this.\n",
    "\n",
    "[[t=0], [t=1]]\n",
    "\n",
    "[[0, 1, 2], [9, 8, 7]]\n",
    "\n",
    "[[3, 4, 5], [0, 0, 0]]\n",
    "\n",
    "[[6, 7, 8], [6, 5, 4]]\n",
    "\n",
    "[[9, 0, 1], [3, 2, 1]]\n",
    "\n",
    "X1_batch = np.array([[9, 8, 7], [0, 0, 0], [6, 5, 4], [3, 2, 1]]\n",
    "So our first step, `t=0`, our mini batch is composed of four samples `[0, 1, 2]`, `[3, 4, 5]`, `[6, 7, 8]`, `[9, 0, 1]`, the second step, `t=0`, our mini batch is composed of four samples `[9, 8, 7]`, `[0, 0, 0]`, `[6, 5, 4]`, `[3, 2, 1]`,\n",
    "There are three inputs\n",
    "\n",
    "Size of X = nums of instances in a batch * features >> this is for a single time step\n",
    "\n",
    "Size of Y = nums of instances in a batch * neurons in the cell of a single time setp >> for a single time step\n",
    "\n",
    "Size of W_x = features in a batch * neurons in the cell of a single time setp >> this is for a single time step\n",
    "\n",
    "Size of W_y = neurons in the cell of a single time setp * neurons in the cell of a single time setp"
   ]
  },
  {
   "cell_type": "code",
   "execution_count": 1,
   "metadata": {},
   "outputs": [],
   "source": [
    "# import tensorflow as tf\n",
    "# import numpy as np\n",
    "# tf.reset_default_graph()\n",
    "\n",
    "# n_inputs = 3 #features\n",
    "# n_neurons = 5 #neurons in each cell\n",
    "# X0 = tf.placeholder(tf.float32, [None, n_inputs])\n",
    "# X1 = tf.placeholder(tf.float32, [None, n_inputs])\n",
    "# Wx = tf.Variable(tf.random_normal(shape=[n_inputs, n_neurons],dtype=tf.float32))\n",
    "# Wy = tf.Variable(tf.random_normal(shape=[n_neurons,n_neurons],dtype=tf.float32))\n",
    "# b = tf.Variable(tf.zeros([1, n_neurons], dtype=tf.float32))\n",
    "# Y0 = tf.tanh(tf.matmul(X0, Wx) + b)\n",
    "# Y1 = tf.tanh(tf.matmul(Y0, Wy) + tf.matmul(X1, Wx) + b)\n",
    "# init = tf.global_variables_initializer()\n",
    "\n",
    "# # Mini-batch: A batch with four instances: instance 0,instance 1,instance 2,instance 3\n",
    "# X0_batch = np.array([[0, 1, 2], [3, 4, 5], [6, 7, 8], [9, 0, 1]]) # t = 0\n",
    "# X1_batch = np.array([[9, 8, 7], [0, 0, 0], [6, 5, 4], [3, 2, 1]]) # t = 1\n",
    "\n",
    "# with tf.Session() as sess:\n",
    "#     init.run()\n",
    "#     Y0_val, Y1_val = sess.run([Y0, Y1], feed_dict={X0: X0_batch, X1: X1_batch})\n",
    "# print(Y0_val)\n",
    "# print(Y1_val)    "
   ]
  },
  {
   "cell_type": "markdown",
   "metadata": {},
   "source": [
    "#### Using static RNN"
   ]
  },
  {
   "cell_type": "code",
   "execution_count": 2,
   "metadata": {},
   "outputs": [],
   "source": [
    "# import tensorflow as tf\n",
    "# import numpy as np\n",
    "# tf.reset_default_graph()\n",
    "\n",
    "# # Mini-batch: A batch with four instances: instance 0,instance 1,instance 2,instance 3\n",
    "# X0_batch = np.array([[0, 1, 2], [3, 4, 5], [6, 7, 8], [9, 0, 1]]) # t = 0\n",
    "# X1_batch = np.array([[9, 8, 7], [0, 0, 0], [6, 5, 4], [3, 2, 1]]) # t = 1\n",
    "\n",
    "# n_inputs = 3 #features\n",
    "# n_neurons = 5 #neurons in each cell\n",
    "# X0 = tf.placeholder(tf.float32, [None, n_inputs])\n",
    "# X1 = tf.placeholder(tf.float32, [None, n_inputs])\n",
    "# basic_cell = tf.contrib.rnn.BasicRNNCell(num_units=n_neurons)\n",
    "# output_seqs, states = tf.contrib.rnn.static_rnn(basic_cell, [X0, X1],dtype=tf.float32)\n",
    "# Y0, Y1 = output_seqs\n",
    "# init = tf.global_variables_initializer()\n",
    "# with tf.Session() as sess:\n",
    "#     init.run()\n",
    "#     Y0_val, Y1_val = sess.run([Y0, Y1], feed_dict={X0: X0_batch, X1: X1_batch})\n",
    "# print(Y0_val)\n",
    "# print(Y1_val)    "
   ]
  },
  {
   "cell_type": "markdown",
   "metadata": {},
   "source": [
    "#### Using static RNN, and combine the time steps"
   ]
  },
  {
   "cell_type": "code",
   "execution_count": 4,
   "metadata": {},
   "outputs": [],
   "source": [
    "# import tensorflow as tf\n",
    "# import numpy as np\n",
    "# tf.reset_default_graph()\n",
    "\n",
    "# n_steps = 2\n",
    "# n_inputs = 3 #features\n",
    "# n_neurons = 5 #neurons in each cell\n",
    "\n",
    "# X = tf.placeholder(tf.float32, [None, n_steps, n_inputs])\n",
    "# X_seqs = tf.unstack(tf.transpose(X, perm=[1, 0, 2]))\n",
    "# basic_cell = tf.contrib.rnn.BasicRNNCell(num_units=n_neurons)\n",
    "# output_seqs, states = tf.contrib.rnn.static_rnn(basic_cell, X_seqs,\n",
    "# dtype=tf.float32)\n",
    "# outputs = tf.transpose(tf.stack(output_seqs), perm=[1, 0, 2])\n",
    "\n",
    "# init = tf.global_variables_initializer()\n",
    "\n",
    "# X_batch = np.array([[[0, 1, 2], [9, 8, 7]],[[3, 4, 5], [0, 0, 0]],[[6, 7, 8], [6, 5, 4]],[[9, 0, 1], [3, 2, 1]]])\n",
    "# with tf.Session() as sess:\n",
    "#     init.run()\n",
    "#     outputs_val = outputs.eval(feed_dict={X: X_batch})\n",
    "\n",
    "# print(outputs_val)"
   ]
  },
  {
   "cell_type": "markdown",
   "metadata": {},
   "source": [
    "#### Using Dynamic RNN, and combine the time steps"
   ]
  },
  {
   "cell_type": "code",
   "execution_count": 8,
   "metadata": {},
   "outputs": [
    {
     "name": "stdout",
     "output_type": "stream",
     "text": [
      "[[[ 0.34176204  0.58014405 -0.7757418   0.03295825 -0.8696612 ]\n",
      "  [-0.62274206 -0.69413316 -0.9999865   0.99998915 -0.8027237 ]]\n",
      "\n",
      " [[ 0.19860226  0.573245   -0.9960343   0.976708   -0.9809966 ]\n",
      "  [ 0.24663007  0.23390147 -0.6510141   0.23145469  0.7804871 ]]\n",
      "\n",
      " [[ 0.04643436  0.5662636  -0.99993753  0.9997034  -0.99736345]\n",
      "  [-0.30893958 -0.46502396 -0.99922866  0.99981356  0.44076118]]\n",
      "\n",
      " [[-0.999788   -0.9992852  -0.97115815  0.9999459   0.999975  ]\n",
      "  [-0.11851168 -0.38272038 -0.37205544  0.99977285  0.8870204 ]]]\n"
     ]
    }
   ],
   "source": [
    "# import tensorflow as tf\n",
    "# import numpy as np\n",
    "# tf.reset_default_graph()\n",
    "\n",
    "# n_steps = 2 #time steps\n",
    "# n_inputs = 3 #features\n",
    "# n_neurons = 5 #neurons in each cell\n",
    "\n",
    "# X = tf.placeholder(tf.float32, [None, n_steps, n_inputs])\n",
    "# # X_seqs = tf.unstack(tf.transpose(X, perm=[1, 0, 2]))\n",
    "# basic_cell = tf.contrib.rnn.BasicRNNCell(num_units=n_neurons)\n",
    "# # output_seqs, states = tf.contrib.rnn.static_rnn(basic_cell, X_seqs, dtype=tf.float32)\n",
    "# # outputs = tf.transpose(tf.stack(output_seqs), perm=[1, 0, 2])\n",
    "# output_seqs, states = tf.nn.dynamic_rnn(basic_cell, X, dtype=tf.float32)\n",
    "\n",
    "# init = tf.global_variables_initializer()\n",
    "\n",
    "# X_batch = np.array([[[0, 1, 2], [9, 8, 7]],[[3, 4, 5], [0, 0, 0]],[[6, 7, 8], [6, 5, 4]],[[9, 0, 1], [3, 2, 1]]])\n",
    "# with tf.Session() as sess:\n",
    "#     init.run()\n",
    "#     outputs_val = output_seqs.eval(feed_dict={X: X_batch})\n",
    "\n",
    "# print(outputs_val)"
   ]
  }
 ],
 "metadata": {
  "kernelspec": {
   "display_name": "Python 3",
   "language": "python",
   "name": "python3"
  },
  "language_info": {
   "codemirror_mode": {
    "name": "ipython",
    "version": 3
   },
   "file_extension": ".py",
   "mimetype": "text/x-python",
   "name": "python",
   "nbconvert_exporter": "python",
   "pygments_lexer": "ipython3",
   "version": "3.6.8"
  }
 },
 "nbformat": 4,
 "nbformat_minor": 2
}
